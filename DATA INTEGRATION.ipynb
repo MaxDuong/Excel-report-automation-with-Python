{
 "cells": [
  {
   "cell_type": "markdown",
   "metadata": {},
   "source": [
    "# LIBRARY"
   ]
  },
  {
   "cell_type": "code",
   "execution_count": 1,
   "metadata": {},
   "outputs": [],
   "source": [
    "# Data Preprocessing\n",
    "import numpy as np\n",
    "import pandas as pd\n",
    "import json\n",
    "\n",
    "# Data Visualization\n",
    "import matplotlib.pyplot as plt\n",
    "from matplotlib import pyplot\n",
    "%matplotlib inline\n",
    "import seaborn as sns\n",
    "\n",
    "# Data Modeling\n",
    "from sklearn.tree import DecisionTreeRegressor\n",
    "from sklearn.ensemble import RandomForestRegressor, GradientBoostingRegressor\n",
    "from xgboost import XGBRegressor\n",
    "from lightgbm import LGBMRegressor\n",
    "import xgboost\n",
    "import lightgbm\n",
    "\n",
    "# Text Sentiment\n",
    "from nltk.sentiment.vader import SentimentIntensityAnalyzer\n",
    "\n",
    "# Others\n",
    "import os\n",
    "from datetime import datetime\n",
    "import math\n",
    "import requests\n",
    "import re\n",
    "from pathlib import Path\n",
    "import pycountry\n",
    "\n",
    "# Excel\n",
    "import openpyxl\n",
    "from openpyxl import load_workbook\n",
    "from openpyxl import Workbook\n",
    "from openpyxl.chart import LineChart, BarChart, Reference, Series\n",
    "\n",
    "\n",
    "# Warning Removal\n",
    "import warnings\n",
    "def ignore_warn(*args, **kwargs):\n",
    "    pass\n",
    "warnings.warn = ignore_warn #ignore annoying warning (from sklearn and seaborn)"
   ]
  },
  {
   "cell_type": "code",
   "execution_count": 2,
   "metadata": {},
   "outputs": [],
   "source": [
    "now = datetime.now()\n",
    "current_date = math.floor(datetime.timestamp(now))\n",
    "\n",
    "one_day_to_second = 60*60*24\n",
    "one_month_to_second = 60*60*24*30\n",
    "three_month_to_second = 60*60*24*92\n",
    "\n",
    "last_1_month = current_date - one_month_to_second\n",
    "last_3_month = current_date - three_month_to_second"
   ]
  },
  {
   "cell_type": "markdown",
   "metadata": {},
   "source": [
    "# 1. FACEBOOK"
   ]
  },
  {
   "cell_type": "markdown",
   "metadata": {},
   "source": [
    "## 1.0 Authentication"
   ]
  },
  {
   "cell_type": "code",
   "execution_count": 25,
   "metadata": {},
   "outputs": [
    {
     "data": {
      "text/plain": [
       "{'fb_api_vers': 'v10.0',\n",
       " 'fb_token': 'EAAEZAQPIck2UBADLP14dTUGUaCZALq06VdpOfn6symbhbpa64ZBV10JQxBK59qTTQh36Tv2ZC1TyCqUwN5uaA9ZCwRaQfpBeTV10fDpofyc8BWAfMtg705eM0IlUcQ6u0GrHtt1ajHvujUJoJn525ZCpGJzRNuziDFRgOtmB1xqSNfgu0PK2I4',\n",
       " 'fb_page_id': '680953308635161',\n",
       " 'ig_token': 'EAAEZAQPIck2UBAGGCRcT4NFIMbKYMxVL56uAQIV4KgnVVPjWWIjaAiPobz7ORHVzKr5ZBy1W1eF6dkTjzrV7mIdTmdRpJO8AT3EDO7ZAxdZAvcHYuknWVdlMUvK3MAf9K1BxX4OH9CtUv5bZAlaQDRPZBVmRwRTYdqipZACUq0QXAZDZD'}"
      ]
     },
     "execution_count": 25,
     "metadata": {},
     "output_type": "execute_result"
    }
   ],
   "source": [
    "# Opening JSON file\n",
    "f = open('authen.json',)\n",
    "\n",
    "# returns JSON object as a dictionary\n",
    "authen = json.load(f)\n",
    "authen"
   ]
  },
  {
   "cell_type": "code",
   "execution_count": 26,
   "metadata": {},
   "outputs": [],
   "source": [
    "fb_api_vers = authen['fb_api_vers']\n",
    "long_access_token = authen['fb_token']\n",
    "page_id = authen['fb_page_id']"
   ]
  },
  {
   "cell_type": "markdown",
   "metadata": {},
   "source": [
    "## 1.1 Page Performance\n",
    "### 1.1.1 Page like, Page View, Page Post Engagement, Page Video View, Page People Reached"
   ]
  },
  {
   "cell_type": "code",
   "execution_count": 27,
   "metadata": {},
   "outputs": [],
   "source": [
    "def extract_metric_data(metric_name):\n",
    "    now = datetime.now()\n",
    "    current_date = math.floor(datetime.timestamp(now))\n",
    "    three_month_to_second = 60*60*24*92\n",
    "    one_day_to_second = 60*60*24\n",
    "    last_3_month = current_date - three_month_to_second\n",
    "\n",
    "    all_data = []\n",
    "    for i in range (4):\n",
    "        url = \"https://graph.facebook.com/{}/{}/insights?\\\n",
    "                metric={}&\\\n",
    "                period=day&\\\n",
    "                since={}&until={}&\\\n",
    "                access_token={}\"\\\n",
    "                .format(fb_api_vers, page_id, metric_name, last_3_month, current_date, long_access_token)\n",
    "        data = requests.get(url).json()\n",
    "        data_clean = data['data'][0]['values']\n",
    "        all_data.extend(data_clean)\n",
    "\n",
    "        current_date = last_3_month - one_day_to_second\n",
    "        last_3_month = current_date - three_month_to_second\n",
    "\n",
    "    df = pd.DataFrame(data=all_data)\n",
    "    # Clean datetime\n",
    "    df['end_time'] = pd.to_datetime(df['end_time']).dt.date\n",
    "\n",
    "    # Change cols' name\n",
    "    cols_name = [metric_name, 'date']\n",
    "    df.columns = cols_name\n",
    "\n",
    "    # Reorder cols\n",
    "    reorder_cols = ['date', metric_name]\n",
    "\n",
    "    # Sort date\n",
    "    df = df.sort_values(by=['date'])\n",
    "\n",
    "    df = df[reorder_cols]\n",
    "    \n",
    "    return df"
   ]
  },
  {
   "cell_type": "code",
   "execution_count": 28,
   "metadata": {},
   "outputs": [],
   "source": [
    "metric_name = 'page_fans'\n",
    "page_fans = extract_metric_data(metric_name)\n",
    "page_fans.columns = ['date', 'page fans']\n",
    "\n",
    "total_fan = int(page_fans[-1:]['page fans'])\n",
    "\n",
    "metric_name = 'page_views_total'\n",
    "page_views = extract_metric_data(metric_name)\n",
    "page_views.columns = ['date', 'page views']\n",
    "\n",
    "metric_name = 'page_post_engagements'\n",
    "page_engagements = extract_metric_data(metric_name)\n",
    "page_engagements.columns = ['date', 'page engagements']\n",
    "\n",
    "metric_name = 'page_video_views'\n",
    "page_video_views = extract_metric_data(metric_name)\n",
    "page_video_views.columns = ['date', 'page video views']\n",
    "\n",
    "metric_name = 'page_posts_impressions_unique'\n",
    "page_people_reach = extract_metric_data(metric_name)\n",
    "page_people_reach.columns = ['date', 'page people reached']\n",
    "\n",
    "df = page_fans\n",
    "df = df.merge(page_views, left_on='date', right_on='date')\n",
    "df = df.merge(page_engagements, left_on='date', right_on='date')\n",
    "df = df.merge(page_video_views, left_on='date', right_on='date')\n",
    "df = df.merge(page_people_reach, left_on='date', right_on='date')"
   ]
  },
  {
   "cell_type": "markdown",
   "metadata": {},
   "source": [
    "### 1.1.2 Gender & Age"
   ]
  },
  {
   "cell_type": "code",
   "execution_count": 6,
   "metadata": {},
   "outputs": [],
   "source": [
    "def extract_specific_metric_data(metric_name):\n",
    "\n",
    "    url = \"https://graph.facebook.com/{}/{}/insights?\\\n",
    "            metric={}&\\\n",
    "            period=day&\\\n",
    "            since={}&until={}&\\\n",
    "            access_token={}\"\\\n",
    "            .format(fb_api_vers, page_id, metric_name, current_date, current_date, long_access_token)\n",
    "\n",
    "    data = requests.get(url).json()\n",
    "    data_clean = data['data'][0]['values'][0]['value']\n",
    "    \n",
    "    # Put data into a dataframe\n",
    "    df = pd.DataFrame(data=data_clean.items())\n",
    "    \n",
    "    return df"
   ]
  },
  {
   "cell_type": "code",
   "execution_count": 7,
   "metadata": {},
   "outputs": [],
   "source": [
    "# extract data\n",
    "metric_name = 'page_fans_gender_age'\n",
    "page_gender_age = extract_specific_metric_data(metric_name)\n",
    "\n",
    "# rename cols' name\n",
    "page_gender_age.columns = ['gender age', 'value']\n",
    "page_gender_age[['gender', 'group age']] = page_gender_age['gender age'].str.split('.', expand=True)\n",
    "\n",
    "# remove undefined user's gender\n",
    "page_gender_age = page_gender_age[page_gender_age['gender'] != 'U']\n",
    "\n",
    "# calculate the total number of users\n",
    "total_m_f = sum(page_gender_age['value'])\n",
    "# calculate the percentage of gender and age\n",
    "page_gender_age['percentage'] = round(page_gender_age['value']/total_m_f*100, 1)\n",
    "\n",
    "# extract targeted cols\n",
    "cols = ['gender', 'group age', 'value', 'percentage']\n",
    "page_gender_age = page_gender_age[cols]"
   ]
  },
  {
   "cell_type": "markdown",
   "metadata": {},
   "source": [
    "### 1.1.2 City & Country"
   ]
  },
  {
   "cell_type": "code",
   "execution_count": 8,
   "metadata": {},
   "outputs": [],
   "source": [
    "### CITY\n",
    "# extract data\n",
    "metric_name = 'page_fans_city'\n",
    "page_city = extract_specific_metric_data(metric_name)\n",
    "\n",
    "# rename cols' name\n",
    "page_city.columns = ['city', 'value']\n",
    "page_city['percentage'] = round(page_city['value'] / total_fan * 100, 2)\n",
    "\n",
    "# top 15 cities with most fans\n",
    "page_city = page_city[-15:]"
   ]
  },
  {
   "cell_type": "code",
   "execution_count": 9,
   "metadata": {},
   "outputs": [],
   "source": [
    "### COUNTRY\n",
    "def country_flag(country_code):\n",
    "    return pycountry.countries.get(alpha_2=country_code).name"
   ]
  },
  {
   "cell_type": "code",
   "execution_count": 10,
   "metadata": {},
   "outputs": [],
   "source": [
    "# extract data\n",
    "metric_name = 'page_fans_country'\n",
    "page_country = extract_specific_metric_data(metric_name)\n",
    "\n",
    "# rename cols' name\n",
    "page_country.columns = ['country', 'value']\n",
    "\n",
    "# calculate percentage\n",
    "page_country['percentage'] = round(page_country['value'] / total_fan * 100, 2)\n",
    "\n",
    "# Clean country\n",
    "# https://stackoverflow.com/questions/53923433/how-to-get-country-name-from-country-abbreviation-in-python-with-mix-of-alpha-2\n",
    "list_alpha_2 = [i.alpha_2 for i in list(pycountry.countries)]\n",
    "page_country['country'] = page_country['country'].apply(country_flag)\n",
    "\n",
    "# sort cities based on the number of fans\n",
    "page_country = page_country.sort_values(by=['value'], ascending=True)[-15:]"
   ]
  },
  {
   "cell_type": "markdown",
   "metadata": {},
   "source": [
    "### Save File"
   ]
  },
  {
   "cell_type": "code",
   "execution_count": 11,
   "metadata": {},
   "outputs": [],
   "source": [
    "def save_file(df_dict):\n",
    "    # Check if a report file exist\n",
    "    report_name = \"report.xlsx\"\n",
    "    excel_file = Path(report_name)\n",
    "    if excel_file.is_file() == False:\n",
    "        writer = pd.ExcelWriter(report_name, engine='xlsxwriter')\n",
    "        writer.save()\n",
    "\n",
    "    # Open Excel file\n",
    "    book = load_workbook(report_name)\n",
    "    writer = pd.ExcelWriter(report_name, engine='openpyxl') \n",
    "    writer.book = book\n",
    "\n",
    "    # Store all existing sheets\n",
    "    writer.sheets = dict((ws.title, ws) for ws in book.worksheets)\n",
    "\n",
    "    # Add or Overwriting data to particualr Sheet\n",
    "    for key, value in df_dict.items(): \n",
    "        value.to_excel(writer, key, index=False)\n",
    "    \n",
    "    writer.save()"
   ]
  },
  {
   "cell_type": "code",
   "execution_count": 12,
   "metadata": {},
   "outputs": [],
   "source": [
    "df_dict = {}\n",
    "df_dict['fb page performance'] = df\n",
    "df_dict['fb gender age'] = page_gender_age\n",
    "df_dict['fb city'] = page_city\n",
    "df_dict['fb country'] = page_country\n",
    "\n",
    "save_file(df_dict)"
   ]
  },
  {
   "cell_type": "markdown",
   "metadata": {},
   "source": [
    "## 1.2 Post Performance"
   ]
  },
  {
   "cell_type": "markdown",
   "metadata": {},
   "source": [
    "### DATA COLLECTION"
   ]
  },
  {
   "cell_type": "code",
   "execution_count": 13,
   "metadata": {},
   "outputs": [],
   "source": [
    "number_post_retrieved_api = 25\n",
    "\n",
    "all_posts = {'id': [],\n",
    "             'date': [],\n",
    "             \n",
    "             'total_reach': [],\n",
    "             'total_impression': [],\n",
    "             'total_reaction': [],\n",
    "             'comment': [],\n",
    "             'share': [],\n",
    "             'post_click': [],\n",
    "             'engagement': [],\n",
    "             \n",
    "             'like': [],\n",
    "             'love': [],\n",
    "             'wow': [],\n",
    "             'haha': [],\n",
    "             'sad': [],\n",
    "             'anger': [],\n",
    "             \n",
    "             'status_type': [], \n",
    "             'message': [],\n",
    "             'url': []}"
   ]
  },
  {
   "cell_type": "code",
   "execution_count": 14,
   "metadata": {},
   "outputs": [],
   "source": [
    "def extract_post_insight(posts, all_posts):\n",
    "    for p in posts['data']:\n",
    "        post_id = p['id']\n",
    "        post_created_time = p['created_time']\n",
    "\n",
    "        # print(post_id)\n",
    "        \n",
    "        url = \"https://graph.facebook.com/{}/{}/insights?\\\n",
    "                metric=post_activity_by_action_type_unique, post_impressions, post_impressions_unique, post_engaged_users,\\\n",
    "                        post_reactions_like_total, post_reactions_love_total, post_reactions_wow_total,\\\n",
    "                        post_reactions_haha_total, post_reactions_sorry_total,post_reactions_anger_total&\\\n",
    "                access_token={}\"\\\n",
    "                .format(fb_api_vers, post_id, long_access_token)\n",
    "        post_insight = requests.get(url).json()\n",
    "\n",
    "        # Like/Reaction\n",
    "        try:\n",
    "            total_reaction = post_insight['data'][0]['values'][0]['value']['like']\n",
    "        except:\n",
    "            total_reaction = 0\n",
    "        \n",
    "        # Comment\n",
    "        try:\n",
    "            comment = post_insight['data'][0]['values'][0]['value']['comment']\n",
    "        except:\n",
    "            comment = 0\n",
    "\n",
    "        # Share\n",
    "        try:\n",
    "            share = post_insight['data'][0]['values'][0]['value']['share']\n",
    "        except:\n",
    "            share = 0\n",
    "\n",
    "        # Total Impression\n",
    "        try:\n",
    "            total_impression = post_insight['data'][1]['values'][0]['value']\n",
    "        except:\n",
    "            total_impression = 0\n",
    "\n",
    "        # Total Reach == Total Unique Impression\n",
    "        try:\n",
    "            total_reach = post_insight['data'][2]['values'][0]['value']\n",
    "        except:\n",
    "            total_reach = 0\n",
    "\n",
    "        # Post Click\n",
    "        try:\n",
    "            post_click = post_insight['data'][3]['values'][0]['value']\n",
    "        except:\n",
    "            post_click = 0\n",
    "\n",
    "        engagement = total_reaction + comment + post_click\n",
    "        \n",
    "        # Like\n",
    "        try:\n",
    "            like = post_insight['data'][4]['values'][0]['value']\n",
    "        except:\n",
    "            like = 0\n",
    "        # Love\n",
    "        try:\n",
    "            love = post_insight['data'][5]['values'][0]['value']\n",
    "        except:\n",
    "            love = 0\n",
    "        # Wow\n",
    "        try:\n",
    "            wow = post_insight['data'][6]['values'][0]['value']\n",
    "        except:\n",
    "            wow = 0\n",
    "        # Haha\n",
    "        try:\n",
    "            haha = post_insight['data'][7]['values'][0]['value']\n",
    "        except:\n",
    "            haha = 0\n",
    "        # Sad\n",
    "        try:\n",
    "            sad = post_insight['data'][8]['values'][0]['value']\n",
    "        except:\n",
    "            sad = 0\n",
    "        # Anger\n",
    "        try:\n",
    "            anger = post_insight['data'][9]['values'][0]['value']\n",
    "        except:\n",
    "            anger = 0\n",
    "        \n",
    "        \n",
    "        url = \"https://graph.facebook.com/{}/{}?\\\n",
    "                fields=status_type, message, permalink_url&\\\n",
    "                access_token={}\"\\\n",
    "                .format(fb_api_vers, post_id, long_access_token)\n",
    "        post_insight = requests.get(url).json()\n",
    "        \n",
    "        # status_type: photo, video\n",
    "        status_type = post_insight['status_type']\n",
    "        status_type = status_type[status_type.find(\"_\")+1 :]\n",
    "        \n",
    "        # message\n",
    "        try:\n",
    "            message = post_insight['message']\n",
    "        except:\n",
    "            message = ''\n",
    "            \n",
    "        # post url\n",
    "        url = post_insight['permalink_url']\n",
    "        \n",
    "        \n",
    "        all_posts['id'].append(post_id)\n",
    "        all_posts['date'].append(post_created_time)\n",
    "        \n",
    "        all_posts['total_reaction'].append(total_reaction)\n",
    "        all_posts['comment'].append(comment)\n",
    "        all_posts['share'].append(share)\n",
    "        all_posts['total_impression'].append(total_impression)\n",
    "        all_posts['total_reach'].append(total_reach)\n",
    "        all_posts['post_click'].append(post_click)\n",
    "        all_posts['engagement'].append(engagement)\n",
    "        \n",
    "        all_posts['like'].append(like)\n",
    "        all_posts['love'].append(love)\n",
    "        all_posts['wow'].append(wow)\n",
    "        all_posts['haha'].append(haha)\n",
    "        all_posts['sad'].append(sad)\n",
    "        all_posts['anger'].append(anger)\n",
    "        \n",
    "        all_posts['status_type'].append(status_type)\n",
    "        all_posts['message'].append(message)\n",
    "        all_posts['url'].append(url)"
   ]
  },
  {
   "cell_type": "code",
   "execution_count": 15,
   "metadata": {},
   "outputs": [],
   "source": [
    "def post_number(number_of_posts, all_posts):\n",
    "    number_api_calling = math.ceil(number_of_posts/number_post_retrieved_api)\n",
    "    print('number_api_calling', number_api_calling)\n",
    "    \n",
    "    for i in range (number_api_calling):\n",
    "        if i == 0:\n",
    "            # 1st 25 posts\n",
    "            url = \"https://graph.facebook.com/{}/{}?\\\n",
    "                    fields=posts&\\\n",
    "                    access_token={}\"\\\n",
    "                    .format(fb_api_vers, page_id, long_access_token)\n",
    "            posts = requests.get(url).json()\n",
    "            posts = posts['posts']\n",
    "        \n",
    "        else:\n",
    "            try:\n",
    "                url = posts['paging']['next']\n",
    "                posts = requests.get(url).json()\n",
    "            except:\n",
    "                print('The number of posts on page is less than is required')\n",
    "                break\n",
    "        \n",
    "        if i == number_api_calling - 1:\n",
    "            remaining_posts = number_of_posts - number_post_retrieved_api*i\n",
    "            posts['data'] = posts['data'][:remaining_posts]\n",
    "        \n",
    "\n",
    "        extract_post_insight(posts, all_posts)     "
   ]
  },
  {
   "cell_type": "code",
   "execution_count": 16,
   "metadata": {},
   "outputs": [
    {
     "name": "stdout",
     "output_type": "stream",
     "text": [
      "number_api_calling 10\n"
     ]
    }
   ],
   "source": [
    "post_number(250, all_posts)"
   ]
  },
  {
   "cell_type": "markdown",
   "metadata": {},
   "source": [
    "### DATA CLEANING"
   ]
  },
  {
   "cell_type": "code",
   "execution_count": 17,
   "metadata": {},
   "outputs": [],
   "source": [
    "def display_outlier(df):\n",
    "    print((\"impressions: {0:<5} engagement: {1:<5} {2:<10}\".format(df['total_impression'], df['engagement'], df['url'])))"
   ]
  },
  {
   "cell_type": "code",
   "execution_count": 18,
   "metadata": {},
   "outputs": [],
   "source": [
    "def clean_datetime(datetime):\n",
    "    month = datetime.month\n",
    "    day = datetime.day\n",
    "\n",
    "    if month > 3 and month < 11:\n",
    "        datetime = datetime + pd.to_timedelta(-7,unit='hour')\n",
    "    elif month == 3 and day > 14:\n",
    "        datetime = datetime + pd.to_timedelta(-7,unit='hour')\n",
    "    elif month == 11 and day < 7:\n",
    "        datetime = datetime + pd.to_timedelta(-7,unit='hour')\n",
    "    else:\n",
    "        datetime = datetime + pd.to_timedelta(-8,unit='hour')\n",
    "    \n",
    "    return datetime"
   ]
  },
  {
   "cell_type": "code",
   "execution_count": 19,
   "metadata": {},
   "outputs": [],
   "source": [
    "def remove_timezone(datetime):\n",
    "    return datetime.strftime('%Y-%m-%d %H:%M:%S')"
   ]
  },
  {
   "cell_type": "code",
   "execution_count": 20,
   "metadata": {},
   "outputs": [],
   "source": [
    "df = pd.DataFrame(data = all_posts)\n",
    "# dropping ALL duplicte values\n",
    "df.drop_duplicates(subset =\"id\",\n",
    "                   keep = 'first', inplace = True)"
   ]
  },
  {
   "cell_type": "code",
   "execution_count": 21,
   "metadata": {},
   "outputs": [],
   "source": [
    "# Change datatype of date\n",
    "df['date'] = pd.to_datetime(df['date'])\n",
    "\n",
    "# Just apply for Pacific time zone\n",
    "df['date'] = df['date'].apply(clean_datetime)\n",
    "\n",
    "# Remove timezone\n",
    "df['date'] = df['date'].apply(remove_timezone)"
   ]
  },
  {
   "cell_type": "markdown",
   "metadata": {},
   "source": [
    "### Top 20 post with most Reach, Impression, Engagement"
   ]
  },
  {
   "cell_type": "code",
   "execution_count": 22,
   "metadata": {},
   "outputs": [],
   "source": [
    "columns_display = ['url','date','total_reach', 'total_impression',\n",
    "                   'total_reaction','comment', 'share', 'post_click', 'engagement',\n",
    "                   'status_type']\n",
    "\n",
    "top_20_reach = df.sort_values('total_reach', ascending=False)[:20][columns_display]\n",
    "top_20_impression = df.sort_values('total_impression', ascending=False)[:20][columns_display]\n",
    "top_20_engagement = df.sort_values('engagement', ascending=False)[:20][columns_display]"
   ]
  },
  {
   "cell_type": "markdown",
   "metadata": {},
   "source": [
    "### Save File"
   ]
  },
  {
   "cell_type": "code",
   "execution_count": 23,
   "metadata": {
    "scrolled": false
   },
   "outputs": [],
   "source": [
    "df_dict = {}\n",
    "df_dict['fb posts'] = df\n",
    "df_dict['fb top 20 reached posts'] = top_20_reach\n",
    "df_dict['fb top 20 impressioned posts'] = top_20_impression\n",
    "df_dict['fb top 20 engageged posts'] = top_20_engagement\n",
    "\n",
    "save_file(df_dict)"
   ]
  },
  {
   "cell_type": "markdown",
   "metadata": {},
   "source": [
    "# 2. INSTAGRAM"
   ]
  },
  {
   "cell_type": "markdown",
   "metadata": {},
   "source": [
    "## 2.0 Authentication"
   ]
  },
  {
   "cell_type": "code",
   "execution_count": 32,
   "metadata": {},
   "outputs": [],
   "source": [
    "def insta_id_extraction():\n",
    "    url = \"https://graph.facebook.com/v10.0/{}?\\\n",
    "            fields=instagram_business_account&\\\n",
    "            access_token={}\"\\\n",
    "            .format(page_id,long_access_token)\n",
    "    data = requests.get(url).json()\n",
    "    \n",
    "    return data['instagram_business_account']['id']"
   ]
  },
  {
   "cell_type": "code",
   "execution_count": 33,
   "metadata": {},
   "outputs": [],
   "source": [
    "fb_api_vers = authen['fb_api_vers']\n",
    "long_access_token = authen['ig_token']\n",
    "page_id = authen['fb_page_id']\n",
    "insta_id = insta_id_extraction()"
   ]
  },
  {
   "cell_type": "markdown",
   "metadata": {},
   "source": [
    "## 2.1 Page / Account Performance"
   ]
  },
  {
   "cell_type": "markdown",
   "metadata": {},
   "source": [
    "### 2.1.1 Reach, Profile View"
   ]
  },
  {
   "cell_type": "code",
   "execution_count": 35,
   "metadata": {},
   "outputs": [],
   "source": [
    "def ig_extract_metric_data(metric_name):\n",
    "    now = datetime.now()\n",
    "    current_date = math.floor(datetime.timestamp(now))\n",
    "    one_day_to_second = 60*60*24\n",
    "    one_month_to_second = 60*60*24*30\n",
    "    last_1_month = current_date - one_month_to_second\n",
    "\n",
    "    all_data = []\n",
    "    for i in range (12):\n",
    "        url = \"https://graph.facebook.com/{}/{}/insights?\\\n",
    "                metric={}&\\\n",
    "                period=day&\\\n",
    "                since={}&until={}&\\\n",
    "                access_token={}\"\\\n",
    "                .format(fb_api_vers, insta_id, metric_name, last_1_month, current_date, long_access_token)\n",
    "\n",
    "        data = requests.get(url).json()\n",
    "        data_clean = data['data'][0]['values']\n",
    "        all_data.extend(data_clean)\n",
    "\n",
    "        current_date = last_1_month\n",
    "        last_1_month = current_date - one_month_to_second\n",
    "\n",
    "    df = pd.DataFrame(data=all_data)\n",
    "\n",
    "    # Clean datetime\n",
    "    df['end_time'] = pd.to_datetime(df['end_time']).dt.date\n",
    "\n",
    "    # Change cols' name\n",
    "    cols_name = [metric_name, 'date']\n",
    "    df.columns = cols_name\n",
    "\n",
    "    # Reorder cols\n",
    "    reorder_cols = ['date', metric_name]\n",
    "    df = df[reorder_cols]\n",
    "    \n",
    "    # Sort date\n",
    "    df = df.sort_values(by=['date'])\n",
    "\n",
    "    return df"
   ]
  },
  {
   "cell_type": "code",
   "execution_count": 36,
   "metadata": {},
   "outputs": [],
   "source": [
    "metric_name = 'reach'\n",
    "ig_page_people_reach = ig_extract_metric_data(metric_name)\n",
    "\n",
    "metric_name = 'profile_views'\n",
    "ig_profile_views = ig_extract_metric_data(metric_name)\n",
    "\n",
    "ig_df = ig_page_people_reach\n",
    "ig_df = ig_df.merge(ig_profile_views, left_on='date', right_on='date')"
   ]
  },
  {
   "cell_type": "markdown",
   "metadata": {},
   "source": [
    "### 2.1.2 Gender & Age"
   ]
  },
  {
   "cell_type": "code",
   "execution_count": 37,
   "metadata": {},
   "outputs": [],
   "source": [
    "def ig_extract_specific_metric_data(metric_name):\n",
    "    url = \"https://graph.facebook.com/{}/{}/insights?\\\n",
    "        metric={}&\\\n",
    "        period=lifetime&\\\n",
    "        access_token={}\"\\\n",
    "        .format(fb_api_vers, insta_id, metric_name, long_access_token)\n",
    "    \n",
    "    data = requests.get(url).json()\n",
    "    data_clean = data['data'][0]['values'][0]['value']\n",
    "    \n",
    "    # Put data into a dataframe\n",
    "    df = pd.DataFrame(data=data_clean.items())\n",
    "    \n",
    "    return df"
   ]
  },
  {
   "cell_type": "code",
   "execution_count": 38,
   "metadata": {},
   "outputs": [],
   "source": [
    "metric_name = 'audience_gender_age'\n",
    "ig_gender_age = ig_extract_specific_metric_data(metric_name)\n",
    "\n",
    "# rename cols' name\n",
    "ig_gender_age.columns = ['gender age', 'value']\n",
    "ig_gender_age[['gender', 'group age']] = ig_gender_age['gender age'].str.split('.', expand=True)\n",
    "\n",
    "# remove undefined user's gender\n",
    "ig_gender_age = ig_gender_age[ig_gender_age['gender'] != 'U']\n",
    "\n",
    "# calculate the total number of users\n",
    "total_m_f = sum(ig_gender_age['value'])\n",
    "# calculate the percentage of gender and age\n",
    "ig_gender_age['percentage'] = round(ig_gender_age['value']/total_m_f*100, 1)\n",
    "\n",
    "# extract targeted cols\n",
    "cols = ['gender', 'group age', 'value', 'percentage']\n",
    "ig_gender_age = ig_gender_age[cols]"
   ]
  },
  {
   "cell_type": "markdown",
   "metadata": {},
   "source": [
    "### 2.1.3 City & Country"
   ]
  },
  {
   "cell_type": "code",
   "execution_count": 39,
   "metadata": {},
   "outputs": [],
   "source": [
    "### CITY\n",
    "\n",
    "metric_name = 'audience_city'\n",
    "ig_city = ig_extract_specific_metric_data(metric_name)\n",
    "\n",
    "# rename cols' name\n",
    "ig_city.columns = ['city', 'value']\n",
    "ig_city['percentage'] = round(ig_city['value'] / total_m_f * 100, 2)"
   ]
  },
  {
   "cell_type": "code",
   "execution_count": 40,
   "metadata": {},
   "outputs": [],
   "source": [
    "### COUNTRY\n",
    "def country_flag(country_code):\n",
    "    return pycountry.countries.get(alpha_2=country_code).name"
   ]
  },
  {
   "cell_type": "code",
   "execution_count": 41,
   "metadata": {},
   "outputs": [],
   "source": [
    "metric_name = 'audience_country'\n",
    "ig_country = ig_extract_specific_metric_data(metric_name)\n",
    "\n",
    "# rename cols' name\n",
    "ig_country.columns = ['country', 'value']\n",
    "\n",
    "# calculate percentage\n",
    "ig_country['percentage'] = round(ig_country['value'] / total_m_f * 100, 2)\n",
    "\n",
    "# Clean country\n",
    "# https://stackoverflow.com/questions/53923433/how-to-get-country-name-from-country-abbreviation-in-python-with-mix-of-alpha-2\n",
    "list_alpha_2 = [i.alpha_2 for i in list(pycountry.countries)]\n",
    "ig_country['country'] = ig_country['country'].apply(country_flag)\n",
    "\n",
    "# sort cities based on the number of fans\n",
    "ig_country = ig_country.sort_values(by=['value'], ascending=True)[-15:]"
   ]
  },
  {
   "cell_type": "markdown",
   "metadata": {},
   "source": [
    "### 2.1.4 Online Followers"
   ]
  },
  {
   "cell_type": "code",
   "execution_count": 42,
   "metadata": {},
   "outputs": [],
   "source": [
    "current_date = math.floor(datetime.timestamp(now))\n",
    "two_day = current_date - 60*60*24*3\n",
    "three_day = current_date - 60*60*24*4\n",
    "\n",
    "url = \"https://graph.facebook.com/{}/{}/insights?\\\n",
    "        metric=online_followers&\\\n",
    "        period=lifetime&\\\n",
    "        since={}&until={}&\\\n",
    "        access_token={}\"\\\n",
    "        .format(fb_api_vers, insta_id, three_day, two_day, long_access_token)\n",
    "\n",
    "ig_online_followers = requests.get(url).json()\n",
    "\n",
    "ig_online_followers = ig_online_followers['data'][0]['values'][0]['value']\n",
    "# Put data into a dataframe\n",
    "ig_online_followers = pd.DataFrame(data=ig_online_followers.items())\n",
    "ig_online_followers.columns = ['hour', 'follower_online']"
   ]
  },
  {
   "cell_type": "markdown",
   "metadata": {},
   "source": [
    "### Save File"
   ]
  },
  {
   "cell_type": "code",
   "execution_count": 43,
   "metadata": {},
   "outputs": [],
   "source": [
    "df_dict = {}\n",
    "df_dict['ig account performance'] = ig_df\n",
    "df_dict['ig gender age'] = ig_gender_age\n",
    "df_dict['ig city'] = ig_city\n",
    "df_dict['ig country'] = ig_country\n",
    "df_dict['ig online follower'] = ig_online_followers\n",
    "\n",
    "save_file(df_dict)"
   ]
  },
  {
   "cell_type": "markdown",
   "metadata": {},
   "source": [
    "## 2.2 Post Performance"
   ]
  },
  {
   "cell_type": "markdown",
   "metadata": {},
   "source": [
    "### DATA COLLECTION"
   ]
  },
  {
   "cell_type": "code",
   "execution_count": 44,
   "metadata": {},
   "outputs": [],
   "source": [
    "def api_impression_reach(post_id):\n",
    "    url = 'https://graph.facebook.com/{}/{}/insights?\\\n",
    "            metric=impressions,reach&\\\n",
    "            access_token={}'\\\n",
    "            .format(fb_api_vers, post_id, long_access_token)\n",
    "    return requests.get(url).json()\n",
    "\n",
    "def api_like_comment_createdTime_mediaType_link(post_id):\n",
    "    url = 'https://graph.facebook.com/{}/{}?\\\n",
    "            fields=like_count,comments_count,media_type,media_url,permalink,timestamp,caption&\\\n",
    "            access_token={}'\\\n",
    "            .format(fb_api_vers, post_id, long_access_token)\n",
    "    return requests.get(url).json()"
   ]
  },
  {
   "cell_type": "code",
   "execution_count": 45,
   "metadata": {},
   "outputs": [],
   "source": [
    "number_posts = 75\n",
    "number_post_retrieved_api = 25\n",
    "\n",
    "all_posts = {'id': [],\n",
    "             'date': [],\n",
    "             \n",
    "             'total_reach': [],\n",
    "             'total_impression': [],\n",
    "             'like/reaction': [],\n",
    "             'comment': [],\n",
    "             'engagement': [],\n",
    "             \n",
    "             'media_type': [],\n",
    "             'url': [],\n",
    "             'caption': []}"
   ]
  },
  {
   "cell_type": "code",
   "execution_count": 46,
   "metadata": {},
   "outputs": [],
   "source": [
    "def extract_post_insight(posts, all_posts):    \n",
    "    for p in posts['data']:\n",
    "        post_id = p['id']\n",
    "\n",
    "        post = api_impression_reach(post_id)\n",
    "\n",
    "        total_impression = post['data'][0]['values'][0]['value']\n",
    "        total_reach = post['data'][1]['values'][0]['value']\n",
    "\n",
    "        post = api_like_comment_createdTime_mediaType_link(post_id)\n",
    "\n",
    "        like_reaction = post['like_count']\n",
    "        comment = post['comments_count']\n",
    "        engagement = like_reaction + comment\n",
    "        created_time = post['timestamp']\n",
    "        media_type = post['media_type']\n",
    "        url = post['permalink']\n",
    "        caption = post['caption']\n",
    "\n",
    "        all_posts['id'].append(post_id)\n",
    "        all_posts['date'].append(created_time)\n",
    "        all_posts['total_reach'].append(total_reach)\n",
    "        all_posts['total_impression'].append(total_impression)\n",
    "        all_posts['like/reaction'].append(like_reaction)\n",
    "        all_posts['comment'].append(comment)\n",
    "        all_posts['engagement'].append(engagement)\n",
    "        all_posts['media_type'].append(media_type)\n",
    "        all_posts['url'].append(url)\n",
    "        all_posts['caption'].append(caption)"
   ]
  },
  {
   "cell_type": "code",
   "execution_count": 47,
   "metadata": {},
   "outputs": [],
   "source": [
    "def post_number(number_of_posts, all_posts):\n",
    "    number_api_calling = math.ceil(number_of_posts/number_post_retrieved_api)\n",
    "    print('number_api_calling', number_api_calling)\n",
    "    \n",
    "    for i in range (number_api_calling):\n",
    "        if i == 0:\n",
    "            # 1st 25 posts\n",
    "            url =  \"https://graph.facebook.com/{}/{}/media?access_token={}\"\\\n",
    "                    .format(fb_api_vers, insta_id, long_access_token)\n",
    "        else:\n",
    "            url = posts['paging']['next']\n",
    "        \n",
    "        posts = requests.get(url).json()\n",
    "        \n",
    "        if i == number_api_calling - 1:\n",
    "            remaining_posts = number_of_posts - number_post_retrieved_api*i\n",
    "            posts['data'] = posts['data'][:remaining_posts]\n",
    "            \n",
    "        extract_post_insight(posts, all_posts)"
   ]
  },
  {
   "cell_type": "code",
   "execution_count": 48,
   "metadata": {},
   "outputs": [
    {
     "name": "stdout",
     "output_type": "stream",
     "text": [
      "number_api_calling 10\n"
     ]
    }
   ],
   "source": [
    "post_number(250, all_posts)"
   ]
  },
  {
   "cell_type": "markdown",
   "metadata": {},
   "source": [
    "### DATA CLEANING"
   ]
  },
  {
   "cell_type": "code",
   "execution_count": 49,
   "metadata": {},
   "outputs": [],
   "source": [
    "df = pd.DataFrame(data = all_posts)\n",
    "# dropping ALL duplicte values\n",
    "df.drop_duplicates(subset =\"id\",\n",
    "                   keep = 'first', inplace = True)"
   ]
  },
  {
   "cell_type": "code",
   "execution_count": 51,
   "metadata": {},
   "outputs": [],
   "source": [
    "# Change datatype of date\n",
    "df['date'] = pd.to_datetime(df['date'])\n",
    "\n",
    "# Just apply for Pacific time zone\n",
    "df['date'] = df['date'].apply(clean_datetime)\n",
    "\n",
    "# Remove timezone\n",
    "df['date'] = df['date'].apply(remove_timezone)"
   ]
  },
  {
   "cell_type": "markdown",
   "metadata": {},
   "source": [
    "### Top 20 post with most Reach, Impression, Engagement"
   ]
  },
  {
   "cell_type": "code",
   "execution_count": 52,
   "metadata": {},
   "outputs": [],
   "source": [
    "columns_display = ['url','date','total_reach', 'total_impression',\n",
    "                   'like/reaction','comment', 'engagement',\n",
    "                   'media_type']\n",
    "\n",
    "top_20_reach = df.sort_values('total_reach', ascending=False)[:20][columns_display]\n",
    "top_20_impression = df.sort_values('total_impression', ascending=False)[:20][columns_display]\n",
    "top_20_engagement = df.sort_values('engagement', ascending=False)[:20][columns_display]"
   ]
  },
  {
   "cell_type": "markdown",
   "metadata": {},
   "source": [
    "### Save File"
   ]
  },
  {
   "cell_type": "code",
   "execution_count": 53,
   "metadata": {},
   "outputs": [],
   "source": [
    "df_dict = {}\n",
    "df_dict['ig posts'] = df\n",
    "df_dict['ig top 20 reached posts'] = top_20_reach\n",
    "df_dict['ig top 20 impressioned posts'] = top_20_impression\n",
    "df_dict['ig top 20 engageged posts'] = top_20_engagement\n",
    "\n",
    "save_file(df_dict)"
   ]
  },
  {
   "cell_type": "code",
   "execution_count": null,
   "metadata": {},
   "outputs": [],
   "source": []
  },
  {
   "cell_type": "code",
   "execution_count": null,
   "metadata": {},
   "outputs": [],
   "source": []
  },
  {
   "cell_type": "code",
   "execution_count": null,
   "metadata": {},
   "outputs": [],
   "source": []
  }
 ],
 "metadata": {
  "kernelspec": {
   "display_name": "Python 3",
   "language": "python",
   "name": "python3"
  },
  "language_info": {
   "codemirror_mode": {
    "name": "ipython",
    "version": 3
   },
   "file_extension": ".py",
   "mimetype": "text/x-python",
   "name": "python",
   "nbconvert_exporter": "python",
   "pygments_lexer": "ipython3",
   "version": "3.8.5"
  }
 },
 "nbformat": 4,
 "nbformat_minor": 4
}
